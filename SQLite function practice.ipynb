{
 "cells": [
  {
   "cell_type": "code",
   "execution_count": 19,
   "id": "314a774e",
   "metadata": {},
   "outputs": [],
   "source": [
    "import sqlite3\n",
    "import time\n",
    "import datetime\n",
    "import random\n",
    "\n",
    "conn = sqlite3.connect('tutorial.db')\n",
    "c = conn.cursor()\n",
    "\n",
    "def create_table():\n",
    "    c.execute('CREATE TABLE IF NOT EXISTS practiceTable(unix REAL, datestamp TEXT, keyword TEXT, value REAL)')\n",
    "\n",
    "def data_entry():\n",
    "    c.execute(\"\"\"INSERT INTO practiceTable VALUES(145, '2016-01-01', 'Python', 5)\"\"\")\n",
    "    conn.commit()\n",
    "    c.close()\n",
    "    conn.close()\n",
    "    \n",
    "def dynamic_data_entry():\n",
    "    unix = time.time()\n",
    "    date = str(datetime.datetime.fromtimestamp(unix).strftime('%Y-%m-%d %H:%M:%S'))\n",
    "    keyword = 'Python'\n",
    "    value = random.randrange(0,10)\n",
    "    c.execute(\"INSERT INTO practiceTable(unix, datestamp, keyword, value) VALUES (?, ?, ?, ?)\", (unix, date, keyword, value))\n",
    "    conn.commit()\n",
    "    \n",
    "def data_delete():\n",
    "    c.execute(\"DELETE FROM practiceTable WHERE unix = 145\")\n",
    "    conn.commit()\n",
    "    \n",
    "#create_table()\n",
    "#data_entry()\n",
    "\n",
    "for i in range(10):\n",
    "    dynamic_data_entry()\n",
    "    time.sleep(10)\n",
    "data_delete()    \n",
    "c.close()\n",
    "conn.close()\n",
    "\n"
   ]
  },
  {
   "cell_type": "code",
   "execution_count": null,
   "id": "0934dddc",
   "metadata": {},
   "outputs": [],
   "source": []
  }
 ],
 "metadata": {
  "kernelspec": {
   "display_name": "Python 3 (ipykernel)",
   "language": "python",
   "name": "python3"
  },
  "language_info": {
   "codemirror_mode": {
    "name": "ipython",
    "version": 3
   },
   "file_extension": ".py",
   "mimetype": "text/x-python",
   "name": "python",
   "nbconvert_exporter": "python",
   "pygments_lexer": "ipython3",
   "version": "3.8.5"
  }
 },
 "nbformat": 4,
 "nbformat_minor": 5
}
